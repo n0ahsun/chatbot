{
 "cells": [
  {
   "cell_type": "markdown",
   "metadata": {},
   "source": [
    "Returns the highest product between 3 of those numbers"
   ]
  },
  {
   "cell_type": "code",
   "execution_count": 1,
   "metadata": {},
   "outputs": [
    {
     "name": "stdout",
     "output_type": "stream",
     "text": [
      "Input a list of intefers, use ',' to seperate them: hello\n",
      "Wrong input\n",
      "Input a list of intefers, use ',' to seperate them: 2,7,4,6,5,20\n",
      "840\n"
     ]
    }
   ],
   "source": [
    "while True:\n",
    "    try:\n",
    "        li = [int(i) for i in input('Input a list of intefers, use \\',\\' to seperate them: ').split(',') ]\n",
    "        break\n",
    "    except ValueError:\n",
    "        print('Wrong input')\n",
    "        continue\n",
    "\n",
    "def hightest_product(li):\n",
    "    sorted_nums = sorted(li, reverse=True)\n",
    "    return sorted_nums[0] * sorted_nums[1] * sorted_nums[2]\n",
    "\n",
    "print(hightest_product(li))"
   ]
  },
  {
   "cell_type": "code",
   "execution_count": null,
   "metadata": {},
   "outputs": [],
   "source": []
  }
 ],
 "metadata": {
  "kernelspec": {
   "display_name": "Python 3",
   "language": "python",
   "name": "python3"
  },
  "language_info": {
   "codemirror_mode": {
    "name": "ipython",
    "version": 3
   },
   "file_extension": ".py",
   "mimetype": "text/x-python",
   "name": "python",
   "nbconvert_exporter": "python",
   "pygments_lexer": "ipython3",
   "version": "3.6.4"
  }
 },
 "nbformat": 4,
 "nbformat_minor": 2
}
